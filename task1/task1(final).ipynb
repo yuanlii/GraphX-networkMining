{
 "cells": [
  {
   "cell_type": "markdown",
   "metadata": {},
   "source": [
    "# Task 1: Link Prediction"
   ]
  },
  {
   "cell_type": "markdown",
   "metadata": {},
   "source": [
    "Desription: In the codes below, I first created a subgraph based on random-sampled nodes from network file (sample node size = 2000). Then I add the nodes from network to make the randomly-selected subgraph can be more representative of the whole network. After the graph is constructed, I computed the distance among each nodes based on Jaccard Coefficients, and finally output the prediction results to a csv file. "
   ]
  },
  {
   "cell_type": "code",
   "execution_count": 17,
   "metadata": {},
   "outputs": [],
   "source": [
    "import pandas as pd\n",
    "import numpy as np\n",
    "from math import log\n",
    "import networkx as nx\n",
    "import time"
   ]
  },
  {
   "cell_type": "code",
   "execution_count": 7,
   "metadata": {},
   "outputs": [],
   "source": [
    "network = pd.read_csv('network.tsv',sep = '\\t',header=None)\n",
    "network = network.rename(columns={0: 'node_id1', 1: 'node_id2'})\n",
    "network['link'] = 1"
   ]
  },
  {
   "cell_type": "code",
   "execution_count": 8,
   "metadata": {},
   "outputs": [
    {
     "data": {
      "text/html": [
       "<div>\n",
       "<style scoped>\n",
       "    .dataframe tbody tr th:only-of-type {\n",
       "        vertical-align: middle;\n",
       "    }\n",
       "\n",
       "    .dataframe tbody tr th {\n",
       "        vertical-align: top;\n",
       "    }\n",
       "\n",
       "    .dataframe thead th {\n",
       "        text-align: right;\n",
       "    }\n",
       "</style>\n",
       "<table border=\"1\" class=\"dataframe\">\n",
       "  <thead>\n",
       "    <tr style=\"text-align: right;\">\n",
       "      <th></th>\n",
       "      <th>node_id1</th>\n",
       "      <th>node_id2</th>\n",
       "      <th>link</th>\n",
       "    </tr>\n",
       "  </thead>\n",
       "  <tbody>\n",
       "    <tr>\n",
       "      <th>0</th>\n",
       "      <td>3942361</td>\n",
       "      <td>4009630</td>\n",
       "      <td>1</td>\n",
       "    </tr>\n",
       "    <tr>\n",
       "      <th>1</th>\n",
       "      <td>1862789</td>\n",
       "      <td>2403557</td>\n",
       "      <td>1</td>\n",
       "    </tr>\n",
       "    <tr>\n",
       "      <th>2</th>\n",
       "      <td>3559086</td>\n",
       "      <td>3449838</td>\n",
       "      <td>1</td>\n",
       "    </tr>\n",
       "    <tr>\n",
       "      <th>3</th>\n",
       "      <td>4268588</td>\n",
       "      <td>6041523</td>\n",
       "      <td>1</td>\n",
       "    </tr>\n",
       "    <tr>\n",
       "      <th>4</th>\n",
       "      <td>3067063</td>\n",
       "      <td>3845402</td>\n",
       "      <td>1</td>\n",
       "    </tr>\n",
       "  </tbody>\n",
       "</table>\n",
       "</div>"
      ],
      "text/plain": [
       "   node_id1  node_id2  link\n",
       "0   3942361   4009630     1\n",
       "1   1862789   2403557     1\n",
       "2   3559086   3449838     1\n",
       "3   4268588   6041523     1\n",
       "4   3067063   3845402     1"
      ]
     },
     "execution_count": 8,
     "metadata": {},
     "output_type": "execute_result"
    }
   ],
   "source": [
    "network.head()"
   ]
  },
  {
   "cell_type": "code",
   "execution_count": 9,
   "metadata": {},
   "outputs": [
    {
     "data": {
      "text/html": [
       "<div>\n",
       "<style scoped>\n",
       "    .dataframe tbody tr th:only-of-type {\n",
       "        vertical-align: middle;\n",
       "    }\n",
       "\n",
       "    .dataframe tbody tr th {\n",
       "        vertical-align: top;\n",
       "    }\n",
       "\n",
       "    .dataframe thead th {\n",
       "        text-align: right;\n",
       "    }\n",
       "</style>\n",
       "<table border=\"1\" class=\"dataframe\">\n",
       "  <thead>\n",
       "    <tr style=\"text-align: right;\">\n",
       "      <th></th>\n",
       "      <th>node_id1</th>\n",
       "      <th>node_id2</th>\n",
       "      <th>link</th>\n",
       "      <th>edges</th>\n",
       "    </tr>\n",
       "  </thead>\n",
       "  <tbody>\n",
       "    <tr>\n",
       "      <th>0</th>\n",
       "      <td>3942361</td>\n",
       "      <td>4009630</td>\n",
       "      <td>1</td>\n",
       "      <td>(3942361, 4009630)</td>\n",
       "    </tr>\n",
       "    <tr>\n",
       "      <th>1</th>\n",
       "      <td>1862789</td>\n",
       "      <td>2403557</td>\n",
       "      <td>1</td>\n",
       "      <td>(1862789, 2403557)</td>\n",
       "    </tr>\n",
       "    <tr>\n",
       "      <th>2</th>\n",
       "      <td>3559086</td>\n",
       "      <td>3449838</td>\n",
       "      <td>1</td>\n",
       "      <td>(3559086, 3449838)</td>\n",
       "    </tr>\n",
       "    <tr>\n",
       "      <th>3</th>\n",
       "      <td>4268588</td>\n",
       "      <td>6041523</td>\n",
       "      <td>1</td>\n",
       "      <td>(4268588, 6041523)</td>\n",
       "    </tr>\n",
       "    <tr>\n",
       "      <th>4</th>\n",
       "      <td>3067063</td>\n",
       "      <td>3845402</td>\n",
       "      <td>1</td>\n",
       "      <td>(3067063, 3845402)</td>\n",
       "    </tr>\n",
       "  </tbody>\n",
       "</table>\n",
       "</div>"
      ],
      "text/plain": [
       "   node_id1  node_id2  link               edges\n",
       "0   3942361   4009630     1  (3942361, 4009630)\n",
       "1   1862789   2403557     1  (1862789, 2403557)\n",
       "2   3559086   3449838     1  (3559086, 3449838)\n",
       "3   4268588   6041523     1  (4268588, 6041523)\n",
       "4   3067063   3845402     1  (3067063, 3845402)"
      ]
     },
     "execution_count": 9,
     "metadata": {},
     "output_type": "execute_result"
    }
   ],
   "source": [
    "network['edges'] = list(zip(network['node_id1'], network['node_id2']))\n",
    "network.head()    "
   ]
  },
  {
   "cell_type": "markdown",
   "metadata": {},
   "source": [
    "Randomly select nodes from network file (node number = 2000), and build graph."
   ]
  },
  {
   "cell_type": "code",
   "execution_count": 10,
   "metadata": {},
   "outputs": [],
   "source": [
    "# get the unique nodes\n",
    "nodes = []\n",
    "nodes += network.node_id1.unique().tolist()\n",
    "nodes += network.node_id2.unique().tolist()\n",
    "\n",
    "# define a random set of nodes S\n",
    "import random\n",
    "sample_nodes = random.sample(nodes, 2000)\n",
    "sample_df = network[(network.node_id1.isin(sample_nodes) == True) | (network.node_id2.isin(sample_nodes) == True)]"
   ]
  },
  {
   "cell_type": "code",
   "execution_count": 11,
   "metadata": {},
   "outputs": [],
   "source": [
    "# construct graph\n",
    "sample_edge_list = sample_df['edges'].tolist()\n",
    "G = nx.Graph()\n",
    "G.add_edges_from(sample_edge_list)"
   ]
  },
  {
   "cell_type": "code",
   "execution_count": 12,
   "metadata": {},
   "outputs": [],
   "source": [
    "sample_df2 = network[(network.node_id1.isin(list(G.nodes())) == True) & (network.node_id2.isin(list(G.nodes())) == True)]\n",
    "\n",
    "sample_edge_list2 = sample_df2['edges'].tolist()\n",
    "G.add_edges_from(sample_edge_list2)"
   ]
  },
  {
   "cell_type": "code",
   "execution_count": 23,
   "metadata": {},
   "outputs": [
    {
     "name": "stdout",
     "output_type": "stream",
     "text": [
      "Process took 7.2603 seconds\n"
     ]
    }
   ],
   "source": [
    "start_time = time.time()\n",
    "\n",
    "preds = nx.jaccard_coefficient(G, list(G.edges()))\n",
    "# preds = nx.preferential_attachment(G, list(G.edges()))\n",
    "# preds = nx.adamic_adar_index(G, list(G.edges()))\n",
    "# preds = nx.resource_allocation_index(G, list(G.edges()))\n",
    "\n",
    "\n",
    "dct = {}\n",
    "for u, v, p in preds:\n",
    "    dct[(u,v)] = p\n",
    "\n",
    "# edge list (in descending order)\n",
    "results = [item[0] for item in sorted(dct.items(),key=lambda x:x[1], reverse = True)]  \n",
    "\n",
    "end_time = time.time()\n",
    "print(\"Process took {:.04f} seconds\".format(end_time - start_time))"
   ]
  },
  {
   "cell_type": "code",
   "execution_count": 19,
   "metadata": {},
   "outputs": [],
   "source": [
    "df = pd.DataFrame(results, columns = ['vertex1', 'vertex2'])\n",
    "top_df = df.head(50000)"
   ]
  },
  {
   "cell_type": "code",
   "execution_count": 20,
   "metadata": {},
   "outputs": [],
   "source": [
    "top_df.to_csv('task1_result(Jaccard).csv', index = False, encoding = 'UTF-8')\n",
    "# top_df.to_csv('task1_result(preferential_attachment).csv', index = False, encoding = 'UTF-8')\n",
    "# top_df.to_csv('task1_result(adamic_adar_index).csv', index = False, encoding = 'UTF-8')\n",
    "# top_df.to_csv('task1_result(resource_allocation_index).csv', index = False, encoding = 'UTF-8')"
   ]
  }
 ],
 "metadata": {
  "kernelspec": {
   "display_name": "Python 3",
   "language": "python",
   "name": "python3"
  },
  "language_info": {
   "codemirror_mode": {
    "name": "ipython",
    "version": 3
   },
   "file_extension": ".py",
   "mimetype": "text/x-python",
   "name": "python",
   "nbconvert_exporter": "python",
   "pygments_lexer": "ipython3",
   "version": "3.6.8"
  }
 },
 "nbformat": 4,
 "nbformat_minor": 2
}
