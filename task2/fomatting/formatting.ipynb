{
 "cells": [
  {
   "cell_type": "code",
   "execution_count": 1,
   "metadata": {},
   "outputs": [],
   "source": [
    "import pandas as pd"
   ]
  },
  {
   "cell_type": "code",
   "execution_count": 2,
   "metadata": {},
   "outputs": [
    {
     "data": {
      "text/html": [
       "<div>\n",
       "<style scoped>\n",
       "    .dataframe tbody tr th:only-of-type {\n",
       "        vertical-align: middle;\n",
       "    }\n",
       "\n",
       "    .dataframe tbody tr th {\n",
       "        vertical-align: top;\n",
       "    }\n",
       "\n",
       "    .dataframe thead th {\n",
       "        text-align: right;\n",
       "    }\n",
       "</style>\n",
       "<table border=\"1\" class=\"dataframe\">\n",
       "  <thead>\n",
       "    <tr style=\"text-align: right;\">\n",
       "      <th></th>\n",
       "      <th>id</th>\n",
       "      <th>attr</th>\n",
       "    </tr>\n",
       "  </thead>\n",
       "  <tbody>\n",
       "    <tr>\n",
       "      <th>0</th>\n",
       "      <td>4546232</td>\n",
       "      <td>T0: 0, T1: 1766</td>\n",
       "    </tr>\n",
       "    <tr>\n",
       "      <th>1</th>\n",
       "      <td>3711008</td>\n",
       "      <td>T0: 0, T1: 1762</td>\n",
       "    </tr>\n",
       "    <tr>\n",
       "      <th>2</th>\n",
       "      <td>6394112</td>\n",
       "      <td>T0: 0, T1: 1914, T8: 0</td>\n",
       "    </tr>\n",
       "    <tr>\n",
       "      <th>3</th>\n",
       "      <td>5883774</td>\n",
       "      <td>T0: 0, T1: 944</td>\n",
       "    </tr>\n",
       "    <tr>\n",
       "      <th>4</th>\n",
       "      <td>2843733</td>\n",
       "      <td>T0: 0, T1: 538</td>\n",
       "    </tr>\n",
       "    <tr>\n",
       "      <th>5</th>\n",
       "      <td>2571713</td>\n",
       "      <td>T0: 0, T1: 414, T8: 0</td>\n",
       "    </tr>\n",
       "    <tr>\n",
       "      <th>6</th>\n",
       "      <td>1672856</td>\n",
       "      <td>T0: 0, T1: 1164</td>\n",
       "    </tr>\n",
       "    <tr>\n",
       "      <th>7</th>\n",
       "      <td>1899234</td>\n",
       "      <td>T0: 0, T1: 154</td>\n",
       "    </tr>\n",
       "    <tr>\n",
       "      <th>8</th>\n",
       "      <td>1257763</td>\n",
       "      <td>T0: 0, T1: 2383</td>\n",
       "    </tr>\n",
       "    <tr>\n",
       "      <th>9</th>\n",
       "      <td>6069784</td>\n",
       "      <td>T0: 0, T1: 2196</td>\n",
       "    </tr>\n",
       "  </tbody>\n",
       "</table>\n",
       "</div>"
      ],
      "text/plain": [
       "        id                    attr\n",
       "0  4546232         T0: 0, T1: 1766\n",
       "1  3711008         T0: 0, T1: 1762\n",
       "2  6394112  T0: 0, T1: 1914, T8: 0\n",
       "3  5883774          T0: 0, T1: 944\n",
       "4  2843733          T0: 0, T1: 538\n",
       "5  2571713   T0: 0, T1: 414, T8: 0\n",
       "6  1672856         T0: 0, T1: 1164\n",
       "7  1899234          T0: 0, T1: 154\n",
       "8  1257763         T0: 0, T1: 2383\n",
       "9  6069784         T0: 0, T1: 2196"
      ]
     },
     "execution_count": 2,
     "metadata": {},
     "output_type": "execute_result"
    }
   ],
   "source": [
    "df = pd.read_csv('TT.txt') # 'TT.txt' is what I combined from the 5 batch of result data\n",
    "df.head(10)"
   ]
  },
  {
   "cell_type": "code",
   "execution_count": 21,
   "metadata": {},
   "outputs": [],
   "source": [
    "def formatting(row):\n",
    "    step1 = row.split(',')\n",
    "    \n",
    "    lst = []\n",
    "    for step in step1:\n",
    "        clean = \":\".join([item.lstrip() for item in step.split(':')])\n",
    "        lst.append(clean)\n",
    "    return ' '.join(lst)\n",
    "\n",
    "df.attr = df.attr.astype('str')\n",
    "df.attr = df.attr.apply(formatting)"
   ]
  },
  {
   "cell_type": "code",
   "execution_count": 23,
   "metadata": {},
   "outputs": [],
   "source": [
    "df.to_csv('task2_result4.csv',index = False, encoding='UTF-8')"
   ]
  }
 ],
 "metadata": {
  "kernelspec": {
   "display_name": "Python 3",
   "language": "python",
   "name": "python3"
  },
  "language_info": {
   "codemirror_mode": {
    "name": "ipython",
    "version": 3
   },
   "file_extension": ".py",
   "mimetype": "text/x-python",
   "name": "python",
   "nbconvert_exporter": "python",
   "pygments_lexer": "ipython3",
   "version": "3.6.6"
  }
 },
 "nbformat": 4,
 "nbformat_minor": 2
}
