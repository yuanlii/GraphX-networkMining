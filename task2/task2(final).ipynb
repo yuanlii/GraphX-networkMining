{
 "cells": [
  {
   "cell_type": "markdown",
   "metadata": {},
   "source": [
    "# Task 2: Attribute Prediction"
   ]
  },
  {
   "cell_type": "code",
   "execution_count": 1,
   "metadata": {},
   "outputs": [],
   "source": [
    "import pandas as pd\n",
    "from math import log\n",
    "import networkx as nx"
   ]
  },
  {
   "cell_type": "code",
   "execution_count": 2,
   "metadata": {},
   "outputs": [
    {
     "data": {
      "text/html": [
       "<div>\n",
       "<style scoped>\n",
       "    .dataframe tbody tr th:only-of-type {\n",
       "        vertical-align: middle;\n",
       "    }\n",
       "\n",
       "    .dataframe tbody tr th {\n",
       "        vertical-align: top;\n",
       "    }\n",
       "\n",
       "    .dataframe thead th {\n",
       "        text-align: right;\n",
       "    }\n",
       "</style>\n",
       "<table border=\"1\" class=\"dataframe\">\n",
       "  <thead>\n",
       "    <tr style=\"text-align: right;\">\n",
       "      <th></th>\n",
       "      <th>node_id1</th>\n",
       "      <th>node_id2</th>\n",
       "      <th>edges</th>\n",
       "    </tr>\n",
       "  </thead>\n",
       "  <tbody>\n",
       "    <tr>\n",
       "      <th>0</th>\n",
       "      <td>3942361</td>\n",
       "      <td>4009630</td>\n",
       "      <td>(3942361, 4009630)</td>\n",
       "    </tr>\n",
       "    <tr>\n",
       "      <th>1</th>\n",
       "      <td>1862789</td>\n",
       "      <td>2403557</td>\n",
       "      <td>(1862789, 2403557)</td>\n",
       "    </tr>\n",
       "    <tr>\n",
       "      <th>2</th>\n",
       "      <td>3559086</td>\n",
       "      <td>3449838</td>\n",
       "      <td>(3559086, 3449838)</td>\n",
       "    </tr>\n",
       "    <tr>\n",
       "      <th>3</th>\n",
       "      <td>4268588</td>\n",
       "      <td>6041523</td>\n",
       "      <td>(4268588, 6041523)</td>\n",
       "    </tr>\n",
       "    <tr>\n",
       "      <th>4</th>\n",
       "      <td>3067063</td>\n",
       "      <td>3845402</td>\n",
       "      <td>(3067063, 3845402)</td>\n",
       "    </tr>\n",
       "  </tbody>\n",
       "</table>\n",
       "</div>"
      ],
      "text/plain": [
       "   node_id1  node_id2               edges\n",
       "0   3942361   4009630  (3942361, 4009630)\n",
       "1   1862789   2403557  (1862789, 2403557)\n",
       "2   3559086   3449838  (3559086, 3449838)\n",
       "3   4268588   6041523  (4268588, 6041523)\n",
       "4   3067063   3845402  (3067063, 3845402)"
      ]
     },
     "execution_count": 2,
     "metadata": {},
     "output_type": "execute_result"
    }
   ],
   "source": [
    "network = pd.read_csv('network.tsv',sep = '\\t',header=None)\n",
    "network = network.rename(columns={0: 'node_id1', 1: 'node_id2'})\n",
    "network['edges'] = list(zip(network['node_id1'], network['node_id2']))\n",
    "network.head()  "
   ]
  },
  {
   "cell_type": "code",
   "execution_count": 39,
   "metadata": {},
   "outputs": [
    {
     "data": {
      "text/html": [
       "<div>\n",
       "<style scoped>\n",
       "    .dataframe tbody tr th:only-of-type {\n",
       "        vertical-align: middle;\n",
       "    }\n",
       "\n",
       "    .dataframe tbody tr th {\n",
       "        vertical-align: top;\n",
       "    }\n",
       "\n",
       "    .dataframe thead th {\n",
       "        text-align: right;\n",
       "    }\n",
       "</style>\n",
       "<table border=\"1\" class=\"dataframe\">\n",
       "  <thead>\n",
       "    <tr style=\"text-align: right;\">\n",
       "      <th></th>\n",
       "      <th>node_id</th>\n",
       "      <th>attributes</th>\n",
       "    </tr>\n",
       "  </thead>\n",
       "  <tbody>\n",
       "    <tr>\n",
       "      <th>0</th>\n",
       "      <td>5509623</td>\n",
       "      <td>T0:0 T1:0</td>\n",
       "    </tr>\n",
       "    <tr>\n",
       "      <th>1</th>\n",
       "      <td>6334893</td>\n",
       "      <td>T0:0 T1:1</td>\n",
       "    </tr>\n",
       "    <tr>\n",
       "      <th>2</th>\n",
       "      <td>1218900</td>\n",
       "      <td>T0:1 T1:2</td>\n",
       "    </tr>\n",
       "    <tr>\n",
       "      <th>3</th>\n",
       "      <td>3871398</td>\n",
       "      <td>T0:1 T1:2</td>\n",
       "    </tr>\n",
       "    <tr>\n",
       "      <th>4</th>\n",
       "      <td>3942361</td>\n",
       "      <td>T0:0 T1:3</td>\n",
       "    </tr>\n",
       "  </tbody>\n",
       "</table>\n",
       "</div>"
      ],
      "text/plain": [
       "   node_id attributes\n",
       "0  5509623  T0:0 T1:0\n",
       "1  6334893  T0:0 T1:1\n",
       "2  1218900  T0:1 T1:2\n",
       "3  3871398  T0:1 T1:2\n",
       "4  3942361  T0:0 T1:3"
      ]
     },
     "execution_count": 39,
     "metadata": {},
     "output_type": "execute_result"
    }
   ],
   "source": [
    "# import training data - 5301403 records\n",
    "train = pd.read_csv('data/labeled-vertices.train.tsv', sep = '\\t', header = None)\n",
    "train = train.rename(columns={0: 'node_id', 1: 'attributes'})\n",
    "train.head()"
   ]
  },
  {
   "cell_type": "code",
   "execution_count": 3,
   "metadata": {},
   "outputs": [
    {
     "data": {
      "text/html": [
       "<div>\n",
       "<style scoped>\n",
       "    .dataframe tbody tr th:only-of-type {\n",
       "        vertical-align: middle;\n",
       "    }\n",
       "\n",
       "    .dataframe tbody tr th {\n",
       "        vertical-align: top;\n",
       "    }\n",
       "\n",
       "    .dataframe thead th {\n",
       "        text-align: right;\n",
       "    }\n",
       "</style>\n",
       "<table border=\"1\" class=\"dataframe\">\n",
       "  <thead>\n",
       "    <tr style=\"text-align: right;\">\n",
       "      <th></th>\n",
       "      <th>node_id</th>\n",
       "    </tr>\n",
       "  </thead>\n",
       "  <tbody>\n",
       "    <tr>\n",
       "      <th>0</th>\n",
       "      <td>4546232</td>\n",
       "    </tr>\n",
       "    <tr>\n",
       "      <th>1</th>\n",
       "      <td>3711008</td>\n",
       "    </tr>\n",
       "    <tr>\n",
       "      <th>2</th>\n",
       "      <td>6394112</td>\n",
       "    </tr>\n",
       "    <tr>\n",
       "      <th>3</th>\n",
       "      <td>5883774</td>\n",
       "    </tr>\n",
       "    <tr>\n",
       "      <th>4</th>\n",
       "      <td>2843733</td>\n",
       "    </tr>\n",
       "  </tbody>\n",
       "</table>\n",
       "</div>"
      ],
      "text/plain": [
       "   node_id\n",
       "0  4546232\n",
       "1  3711008\n",
       "2  6394112\n",
       "3  5883774\n",
       "4  2843733"
      ]
     },
     "execution_count": 3,
     "metadata": {},
     "output_type": "execute_result"
    }
   ],
   "source": [
    "# import test data (662675 rows; type:float64)\n",
    "test = pd.read_csv('data/unlabeled-vertices.test.txt',header = None)\n",
    "test = test.rename(columns={0: 'node_id'})\n",
    "test.head()"
   ]
  },
  {
   "cell_type": "code",
   "execution_count": 4,
   "metadata": {},
   "outputs": [
    {
     "data": {
      "text/plain": [
       "747055"
      ]
     },
     "execution_count": 4,
     "metadata": {},
     "output_type": "execute_result"
    }
   ],
   "source": [
    "test_nodes = test.node_id.tolist()\n",
    "include_test_df = network[(network.node_id1.isin(test_nodes) == True) | (network.node_id2.isin(test_nodes) == True)]\n",
    "include_test_df.head()  # subgraph include all test nodes + its neighborhood\n",
    "len(include_test_df)"
   ]
  },
  {
   "cell_type": "code",
   "execution_count": 7,
   "metadata": {},
   "outputs": [],
   "source": [
    "# add nearby train nodes upon include_test_df\n",
    "train_nodes = train.node_id.tolist()\n",
    "subset_df = include_test_df[(include_test_df.node_id1.isin(train_nodes) == True) | (include_test_df.node_id2.isin(train_nodes) == True)]\n"
   ]
  },
  {
   "cell_type": "code",
   "execution_count": 8,
   "metadata": {},
   "outputs": [],
   "source": [
    "# construct graph\n",
    "subset_edge_list = subset_df['edges'].tolist()\n",
    "G = nx.Graph()\n",
    "G.add_edges_from(subset_edge_list)"
   ]
  },
  {
   "cell_type": "code",
   "execution_count": 9,
   "metadata": {},
   "outputs": [
    {
     "data": {
      "text/plain": [
       "1156688"
      ]
     },
     "execution_count": 9,
     "metadata": {},
     "output_type": "execute_result"
    }
   ],
   "source": [
    "len(G.nodes())"
   ]
  },
  {
   "cell_type": "code",
   "execution_count": 10,
   "metadata": {},
   "outputs": [],
   "source": [
    "G.add_nodes_from(test_nodes)"
   ]
  },
  {
   "cell_type": "code",
   "execution_count": 12,
   "metadata": {},
   "outputs": [],
   "source": [
    "# parse attributes to training data nodes (in random graph)\n",
    "\n",
    "attr_dict = {}\n",
    "# for (k,v) in zip(train.node_id,train.attributes):\n",
    "for (k,v) in zip(train_in_graph.node_id,train_in_graph.attributes):\n",
    "    node_attrs = {}\n",
    "    attrs = v.split() # ['T0:0', 'T1:0']\n",
    "    \n",
    "    node_attrs = {}        \n",
    "    for attr in attrs:\n",
    "        key = attr.split(':')[0] # key\n",
    "        value = attr.split(':')[1] # value\n",
    "        node_attrs[key] = value\n",
    "    \n",
    "    attr_dict[k] = node_attrs\n",
    "\n",
    "nx.set_node_attributes(G, attr_dict)"
   ]
  },
  {
   "cell_type": "code",
   "execution_count": 36,
   "metadata": {},
   "outputs": [],
   "source": [
    "def neighbourhood(G, n,k=1):\n",
    "    if k == 1:\n",
    "        return G[n]\n",
    "    dist = nx.single_source_shortest_path_length(G, n, k)\n",
    "    del dist[n]\n",
    "    return dist.keys()\n",
    "\n",
    "\n",
    "def get_node_neighbors(n):\n",
    "    neighbors = list(neighbourhood(G, n,k=1)) \n",
    "    all_lst = []\n",
    "    for neighbor_node in neighbors:\n",
    "        neighbor_attrs = G.nodes[neighbor_node]\n",
    "\n",
    "        lst = []\n",
    "        for (k, v) in neighbor_attrs.items():\n",
    "            lst.append((k,v))\n",
    "\n",
    "        all_lst += lst\n",
    "        \n",
    "    return all_lst\n"
   ]
  },
  {
   "cell_type": "code",
   "execution_count": null,
   "metadata": {},
   "outputs": [],
   "source": [
    "def predict_node_attr(n):\n",
    "    all_lst = get_node_neighbors(n)  # get_node_neighbors <<\n",
    "    df = pd.DataFrame(all_lst, columns = ['attr','value'])\n",
    "    target_df = df.groupby('attr').agg(lambda x:x.value_counts().index[0]) \n",
    "    \n",
    "    target_node_attr = {}\n",
    "    target_df.to_dict()['value']\n",
    "    target_node_attr[n] = target_df.to_dict()['value']\n",
    "    \n",
    "    return target_node_attr"
   ]
  },
  {
   "cell_type": "code",
   "execution_count": 30,
   "metadata": {},
   "outputs": [
    {
     "data": {
      "text/plain": [
       "4546232"
      ]
     },
     "execution_count": 30,
     "metadata": {},
     "output_type": "execute_result"
    }
   ],
   "source": [
    "# divide test data into 5 batches and predict each of them\n",
    "test_nodes[:132535][0]  # -> 4546232   \n",
    "test_nodes[132535:265070][0]  # -> 647698   \n",
    "test_nodes[265070:397605][0]  # -> 3529436   \n",
    "test_nodes[397605:530140] [0]  #  -> 90666   \n",
    "test_nodes[530140:][0]   # -> 971066  "
   ]
  },
  {
   "cell_type": "code",
   "execution_count": 39,
   "metadata": {},
   "outputs": [
    {
     "name": "stdout",
     "output_type": "stream",
     "text": [
      "predictions_bag5 created. Process took 1057.9442 seconds\n"
     ]
    }
   ],
   "source": [
    "from scipy import stats\n",
    "import time\n",
    "\n",
    "start_time = time.time() \n",
    "predict_attrs_bag5 = []\n",
    "\n",
    "for test_node in test_nodes[530140:]:\n",
    "    predict_attrs_bag5.append(predict_node_attr(test_node))\n",
    "\n",
    "end_time = time.time()\n",
    "print(\"predictions_bag5 created. Process took {:.04f} seconds\".format(end_time - start_time))"
   ]
  },
  {
   "cell_type": "code",
   "execution_count": 40,
   "metadata": {},
   "outputs": [],
   "source": [
    "import json\n",
    "    \n",
    "with open('task2_outputfile(bag5)', 'w') as fout:\n",
    "    json.dump(predict_attrs_bag5, fout)"
   ]
  }
 ],
 "metadata": {
  "kernelspec": {
   "display_name": "Python 3",
   "language": "python",
   "name": "python3"
  },
  "language_info": {
   "codemirror_mode": {
    "name": "ipython",
    "version": 3
   },
   "file_extension": ".py",
   "mimetype": "text/x-python",
   "name": "python",
   "nbconvert_exporter": "python",
   "pygments_lexer": "ipython3",
   "version": "3.6.6"
  }
 },
 "nbformat": 4,
 "nbformat_minor": 2
}
